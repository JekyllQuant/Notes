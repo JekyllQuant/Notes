{
 "cells": [
  {
   "cell_type": "markdown",
   "metadata": {},
   "source": [
    "# To Do List"
   ]
  },
  {
   "cell_type": "markdown",
   "metadata": {},
   "source": [
    "## High Priority\n",
    "1. CHECK AGAIN TS/GR SOLUTIONS\n",
    "1. Hyperparameter Optimization\n",
    "    - BayesSearchCV\n",
    "1. Model Evaluation + Model Ensembling + Feature Selection (Feature Importance)\n",
    "    - Model Ensembling:\n",
    "        - How to specialize models?\n",
    "        - Split dataset by volatility regimes?\n",
    "            - Split dataset by looking at quantiles of std(mid)\n",
    "            - 3 quantiles: low / normal / high volatility regimes\n",
    "            - Do feature selection and build a model for each regime\n",
    "        - Do model averaging/ensempling using Linear Regression/Ridge Regression?\n",
    "    - Cumulative $R^2$ Plotting:\n",
    "        - Implement cumulative $R^2$ in a time-series cross-validation setting\n",
    "        - Plot Cumulative $R^2$ for various models for different cv-folds and understand which ones are the best models for each fold\n",
    "        - For each model/set of features for all the (5) folds of the CV set\n",
    "        - Use learning_curve (scikit-learn)?\n",
    "    - Check how to combine different models built on different set of features\n",
    "        - How to select the features for each model?\n",
    "    - Feature Selection (Feature Importance):\n",
    "        - Check RFECV to do Feature Selection\n",
    "        - Do Feature Importance with XGBoost using Cross-Validation:\n",
    "            - Does the importance change on different folds? If yes, probably you need to use different features for different periods\n",
    "1. Features:\n",
    "    1. Bukosabino \"Blackmagic\"\n",
    "        - Check Bukosabino GitHub \"Blackmagic\"\n",
    "        - Use his standardization techniques as well? (same file of Blackmagic)\n",
    "    1. Use Robust Z-Score?\n",
    "        - Use by Sam (GR)\n",
    "        - $\\text{Robust Z-Score} = \\frac{x-\\text{median}}{\\text{MAD (Median Abs Deviation)}}$\n",
    "    1. New Features\n",
    "        - Volatility / Std\n",
    "        - Diffs\n",
    "        - Sum\n",
    "        - Ratios\n",
    "    1. Select Different Features:\n",
    "        - Select less order book levels and see if anything changes\n",
    "    1. Reduce Memory Footprint:\n",
    "        - Try using Differences/Returns in time instead of Z-Score\n",
    "    1. Transform Features:\n",
    "        - Check if features are non-normally distributed (using an histogram)\n",
    "        - Apply Log/Box-Cox Transformation?\n",
    "1. Cross-Validation\n",
    "    - Change $R^2$ to use $\\overline{y}=0$ (true metric used by XTX)\n",
    "    - Change Cross-Validation Method:\n",
    "        - Test other CV strategies to get a better estimate for OOS\n",
    "        - Change TimeSeriesSplit to something else\n",
    "        - Test Stratified Sampling / StratifiedKFold\n",
    "    - Shuffling dataset gives better $R^2$: Is it because I use the future to forecast the present?\n",
    "    - Adding lags doens't improve $R^2$: Is it because samples are independent?\n",
    "    - Select best features for each fold + Train single model on each fold/feature set + Ensemble\n",
    "1. MAE / Huber Loss\n",
    "    - Test Huber Loss with XGBRegressor"
   ]
  },
  {
   "cell_type": "markdown",
   "metadata": {},
   "source": [
    "## Low Priority\n",
    "1. Remove Outliers\n",
    "1. Test Neural Networks\n",
    "1. New Models:\n",
    "    - Fix models that aren't working + Test new models:\n",
    "        - ExtraTrees\n",
    "        - Random Forests\n",
    "        - GBM\n",
    "        - Neural Networks\n",
    "        - Lasso\n",
    "1. Feature Selection:\n",
    "    - CCF & Stationary Data?\n",
    "        - You should have checked if data was stationary before coing CCF (Cross-Correlation Function)\n",
    "1. Multi-class Classification:\n",
    "    - Treat problem as multi-class classification problem?\n",
    "1. Train on true (reconstructed) $y$, not winsorized $y$\n",
    "    - clip prediction output to $[-5,5]$?"
   ]
  }
 ],
 "metadata": {
  "kernelspec": {
   "display_name": "py373_xtx_venv",
   "language": "python",
   "name": "py373_xtx_venv"
  },
  "language_info": {
   "codemirror_mode": {
    "name": "ipython",
    "version": 3
   },
   "file_extension": ".py",
   "mimetype": "text/x-python",
   "name": "python",
   "nbconvert_exporter": "python",
   "pygments_lexer": "ipython3",
   "version": "3.7.3"
  }
 },
 "nbformat": 4,
 "nbformat_minor": 4
}
